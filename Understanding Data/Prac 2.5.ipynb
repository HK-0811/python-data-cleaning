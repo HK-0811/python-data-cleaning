{
 "cells": [
  {
   "cell_type": "code",
   "execution_count": 11,
   "id": "fb8af73d",
   "metadata": {},
   "outputs": [],
   "source": [
    "#Importing pandas library\n",
    "import pandas as pd"
   ]
  },
  {
   "cell_type": "code",
   "execution_count": 12,
   "id": "c4b57cb1",
   "metadata": {},
   "outputs": [],
   "source": [
    "#Fetch the desired csv/excel file consisting data\n",
    "df = pd.read_csv(r\"C:\\Users\\Himanshu Kotkar\\Downloads\\hr_data - hr_data.csv\")"
   ]
  },
  {
   "cell_type": "code",
   "execution_count": 13,
   "id": "1de08f4c",
   "metadata": {},
   "outputs": [
    {
     "data": {
      "text/html": [
       "<div>\n",
       "<style scoped>\n",
       "    .dataframe tbody tr th:only-of-type {\n",
       "        vertical-align: middle;\n",
       "    }\n",
       "\n",
       "    .dataframe tbody tr th {\n",
       "        vertical-align: top;\n",
       "    }\n",
       "\n",
       "    .dataframe thead th {\n",
       "        text-align: right;\n",
       "    }\n",
       "</style>\n",
       "<table border=\"1\" class=\"dataframe\">\n",
       "  <thead>\n",
       "    <tr style=\"text-align: right;\">\n",
       "      <th></th>\n",
       "      <th>SLNO</th>\n",
       "      <th>Candidate Ref</th>\n",
       "      <th>DOJ Extended</th>\n",
       "      <th>Duration to accept offer</th>\n",
       "      <th>Notice period</th>\n",
       "      <th>Offered band</th>\n",
       "      <th>Pecent hike expected in CTC</th>\n",
       "      <th>Percent hike offered in CTC</th>\n",
       "      <th>Percent difference CTC</th>\n",
       "      <th>Joining Bonus</th>\n",
       "      <th>Candidate relocate actual</th>\n",
       "      <th>Gender</th>\n",
       "      <th>Candidate Source</th>\n",
       "      <th>Rex in Yrs</th>\n",
       "      <th>LOB</th>\n",
       "      <th>Location</th>\n",
       "      <th>Age</th>\n",
       "      <th>Status</th>\n",
       "    </tr>\n",
       "  </thead>\n",
       "  <tbody>\n",
       "    <tr>\n",
       "      <th>0</th>\n",
       "      <td>1</td>\n",
       "      <td>2110407</td>\n",
       "      <td>Yes</td>\n",
       "      <td>14</td>\n",
       "      <td>30</td>\n",
       "      <td>E2</td>\n",
       "      <td>-20.79</td>\n",
       "      <td>13.16</td>\n",
       "      <td>42.86</td>\n",
       "      <td>No</td>\n",
       "      <td>No</td>\n",
       "      <td>Female</td>\n",
       "      <td>Agency</td>\n",
       "      <td>7</td>\n",
       "      <td>ERS</td>\n",
       "      <td>Noida</td>\n",
       "      <td>34</td>\n",
       "      <td>Joined</td>\n",
       "    </tr>\n",
       "    <tr>\n",
       "      <th>1</th>\n",
       "      <td>2</td>\n",
       "      <td>2112635</td>\n",
       "      <td>No</td>\n",
       "      <td>18</td>\n",
       "      <td>30</td>\n",
       "      <td>E2</td>\n",
       "      <td>50.00</td>\n",
       "      <td>320.00</td>\n",
       "      <td>180.00</td>\n",
       "      <td>No</td>\n",
       "      <td>No</td>\n",
       "      <td>Male</td>\n",
       "      <td>Employee Referral</td>\n",
       "      <td>8</td>\n",
       "      <td>INFRA</td>\n",
       "      <td>Chennai</td>\n",
       "      <td>34</td>\n",
       "      <td>Joined</td>\n",
       "    </tr>\n",
       "    <tr>\n",
       "      <th>2</th>\n",
       "      <td>3</td>\n",
       "      <td>2112838</td>\n",
       "      <td>No</td>\n",
       "      <td>3</td>\n",
       "      <td>45</td>\n",
       "      <td>E2</td>\n",
       "      <td>42.84</td>\n",
       "      <td>42.84</td>\n",
       "      <td>0.00</td>\n",
       "      <td>No</td>\n",
       "      <td>No</td>\n",
       "      <td>Male</td>\n",
       "      <td>Agency</td>\n",
       "      <td>4</td>\n",
       "      <td>INFRA</td>\n",
       "      <td>Noida</td>\n",
       "      <td>27</td>\n",
       "      <td>Joined</td>\n",
       "    </tr>\n",
       "    <tr>\n",
       "      <th>3</th>\n",
       "      <td>4</td>\n",
       "      <td>2115021</td>\n",
       "      <td>No</td>\n",
       "      <td>26</td>\n",
       "      <td>30</td>\n",
       "      <td>E2</td>\n",
       "      <td>42.84</td>\n",
       "      <td>42.84</td>\n",
       "      <td>0.00</td>\n",
       "      <td>No</td>\n",
       "      <td>No</td>\n",
       "      <td>Male</td>\n",
       "      <td>Employee Referral</td>\n",
       "      <td>4</td>\n",
       "      <td>INFRA</td>\n",
       "      <td>Noida</td>\n",
       "      <td>34</td>\n",
       "      <td>Joined</td>\n",
       "    </tr>\n",
       "    <tr>\n",
       "      <th>4</th>\n",
       "      <td>5</td>\n",
       "      <td>2115125</td>\n",
       "      <td>Yes</td>\n",
       "      <td>1</td>\n",
       "      <td>120</td>\n",
       "      <td>E2</td>\n",
       "      <td>42.59</td>\n",
       "      <td>42.59</td>\n",
       "      <td>0.00</td>\n",
       "      <td>No</td>\n",
       "      <td>Yes</td>\n",
       "      <td>Male</td>\n",
       "      <td>Employee Referral</td>\n",
       "      <td>6</td>\n",
       "      <td>INFRA</td>\n",
       "      <td>Noida</td>\n",
       "      <td>34</td>\n",
       "      <td>Joined</td>\n",
       "    </tr>\n",
       "  </tbody>\n",
       "</table>\n",
       "</div>"
      ],
      "text/plain": [
       "   SLNO  Candidate Ref DOJ Extended  Duration to accept offer  Notice period  \\\n",
       "0     1        2110407          Yes                        14             30   \n",
       "1     2        2112635           No                        18             30   \n",
       "2     3        2112838           No                         3             45   \n",
       "3     4        2115021           No                        26             30   \n",
       "4     5        2115125          Yes                         1            120   \n",
       "\n",
       "  Offered band  Pecent hike expected in CTC  Percent hike offered in CTC  \\\n",
       "0           E2                       -20.79                        13.16   \n",
       "1           E2                        50.00                       320.00   \n",
       "2           E2                        42.84                        42.84   \n",
       "3           E2                        42.84                        42.84   \n",
       "4           E2                        42.59                        42.59   \n",
       "\n",
       "   Percent difference CTC Joining Bonus Candidate relocate actual  Gender  \\\n",
       "0                   42.86            No                        No  Female   \n",
       "1                  180.00            No                        No    Male   \n",
       "2                    0.00            No                        No    Male   \n",
       "3                    0.00            No                        No    Male   \n",
       "4                    0.00            No                       Yes    Male   \n",
       "\n",
       "    Candidate Source  Rex in Yrs    LOB Location  Age  Status  \n",
       "0             Agency           7    ERS    Noida   34  Joined  \n",
       "1  Employee Referral           8  INFRA  Chennai   34  Joined  \n",
       "2             Agency           4  INFRA    Noida   27  Joined  \n",
       "3  Employee Referral           4  INFRA    Noida   34  Joined  \n",
       "4  Employee Referral           6  INFRA    Noida   34  Joined  "
      ]
     },
     "execution_count": 13,
     "metadata": {},
     "output_type": "execute_result"
    }
   ],
   "source": [
    "#Print top 5 rows \n",
    "df.head()"
   ]
  },
  {
   "cell_type": "raw",
   "id": "3602777f",
   "metadata": {},
   "source": [
    "Q.1 Performing basic data cleaning"
   ]
  },
  {
   "cell_type": "code",
   "execution_count": 38,
   "id": "833db66f",
   "metadata": {},
   "outputs": [
    {
     "name": "stdout",
     "output_type": "stream",
     "text": [
      "<class 'pandas.core.frame.DataFrame'>\n",
      "RangeIndex: 8995 entries, 0 to 8994\n",
      "Data columns (total 22 columns):\n",
      " #   Column                       Non-Null Count  Dtype   \n",
      "---  ------                       --------------  -----   \n",
      " 0   SLNO                         8995 non-null   int64   \n",
      " 1   Candidate Ref                8995 non-null   int64   \n",
      " 2   DOJ Extended                 8995 non-null   object  \n",
      " 3   Duration to accept offer     8995 non-null   int64   \n",
      " 4   Notice period                8995 non-null   int64   \n",
      " 5   Offered band                 8995 non-null   object  \n",
      " 6   Pecent hike expected in CTC  8995 non-null   float64 \n",
      " 7   Percent hike offered in CTC  8995 non-null   float64 \n",
      " 8   Percent difference CTC       8995 non-null   float64 \n",
      " 9   Joining Bonus                8995 non-null   object  \n",
      " 10  Candidate relocate actual    8995 non-null   object  \n",
      " 11  Gender                       8995 non-null   object  \n",
      " 12  Candidate Source             8995 non-null   object  \n",
      " 13  Rex in Yrs                   8995 non-null   int64   \n",
      " 14  LOB                          8995 non-null   object  \n",
      " 15  Location                     8995 non-null   object  \n",
      " 16  Age                          8995 non-null   int64   \n",
      " 17  Status                       8995 non-null   object  \n",
      " 18  agegroup                     8995 non-null   category\n",
      " 19  states                       8995 non-null   object  \n",
      " 20  Status in num                8995 non-null   int64   \n",
      " 21  ctc_status                   8995 non-null   object  \n",
      "dtypes: category(1), float64(3), int64(7), object(11)\n",
      "memory usage: 1.5+ MB\n"
     ]
    }
   ],
   "source": [
    "#Printing metadata to understad the data and also to look for any missing values\n",
    "df.info()"
   ]
  },
  {
   "cell_type": "markdown",
   "id": "33776bae",
   "metadata": {},
   "source": [
    "AS THERE ARE NO MISSING VALUES, WE WILL MOVE FORWARD AND THE DATA CLEANING PHASE WILL END."
   ]
  },
  {
   "cell_type": "raw",
   "id": "55f90923",
   "metadata": {},
   "source": [
    "Q.2 Derive a new column called agegroup from age column where persons falling in different\n",
    "age ranges are categorized as below.\n",
    "a. (0–15): young\n",
    "b. (15–35): adults\n",
    "c. (35–55): mid\n",
    "d. (55–): old"
   ]
  },
  {
   "cell_type": "code",
   "execution_count": 15,
   "id": "0f44a565",
   "metadata": {},
   "outputs": [],
   "source": [
    "#Using the pd.cut() to create intervals using a column already present \n",
    "#This can be used to compress specific columnn in a range\n",
    "df[\"agegroup\"] = pd.cut(df['Age'],bins=[0,15,35,55,100],labels=[\"young\",\"adults\",\"mid\",\"old\"])"
   ]
  },
  {
   "cell_type": "code",
   "execution_count": 16,
   "id": "af1dc6a0",
   "metadata": {},
   "outputs": [
    {
     "data": {
      "text/html": [
       "<div>\n",
       "<style scoped>\n",
       "    .dataframe tbody tr th:only-of-type {\n",
       "        vertical-align: middle;\n",
       "    }\n",
       "\n",
       "    .dataframe tbody tr th {\n",
       "        vertical-align: top;\n",
       "    }\n",
       "\n",
       "    .dataframe thead th {\n",
       "        text-align: right;\n",
       "    }\n",
       "</style>\n",
       "<table border=\"1\" class=\"dataframe\">\n",
       "  <thead>\n",
       "    <tr style=\"text-align: right;\">\n",
       "      <th></th>\n",
       "      <th>SLNO</th>\n",
       "      <th>Candidate Ref</th>\n",
       "      <th>DOJ Extended</th>\n",
       "      <th>Duration to accept offer</th>\n",
       "      <th>Notice period</th>\n",
       "      <th>Offered band</th>\n",
       "      <th>Pecent hike expected in CTC</th>\n",
       "      <th>Percent hike offered in CTC</th>\n",
       "      <th>Percent difference CTC</th>\n",
       "      <th>Joining Bonus</th>\n",
       "      <th>Candidate relocate actual</th>\n",
       "      <th>Gender</th>\n",
       "      <th>Candidate Source</th>\n",
       "      <th>Rex in Yrs</th>\n",
       "      <th>LOB</th>\n",
       "      <th>Location</th>\n",
       "      <th>Age</th>\n",
       "      <th>Status</th>\n",
       "      <th>agegroup</th>\n",
       "    </tr>\n",
       "  </thead>\n",
       "  <tbody>\n",
       "    <tr>\n",
       "      <th>0</th>\n",
       "      <td>1</td>\n",
       "      <td>2110407</td>\n",
       "      <td>Yes</td>\n",
       "      <td>14</td>\n",
       "      <td>30</td>\n",
       "      <td>E2</td>\n",
       "      <td>-20.79</td>\n",
       "      <td>13.16</td>\n",
       "      <td>42.86</td>\n",
       "      <td>No</td>\n",
       "      <td>No</td>\n",
       "      <td>Female</td>\n",
       "      <td>Agency</td>\n",
       "      <td>7</td>\n",
       "      <td>ERS</td>\n",
       "      <td>Noida</td>\n",
       "      <td>34</td>\n",
       "      <td>Joined</td>\n",
       "      <td>adults</td>\n",
       "    </tr>\n",
       "    <tr>\n",
       "      <th>1</th>\n",
       "      <td>2</td>\n",
       "      <td>2112635</td>\n",
       "      <td>No</td>\n",
       "      <td>18</td>\n",
       "      <td>30</td>\n",
       "      <td>E2</td>\n",
       "      <td>50.00</td>\n",
       "      <td>320.00</td>\n",
       "      <td>180.00</td>\n",
       "      <td>No</td>\n",
       "      <td>No</td>\n",
       "      <td>Male</td>\n",
       "      <td>Employee Referral</td>\n",
       "      <td>8</td>\n",
       "      <td>INFRA</td>\n",
       "      <td>Chennai</td>\n",
       "      <td>34</td>\n",
       "      <td>Joined</td>\n",
       "      <td>adults</td>\n",
       "    </tr>\n",
       "    <tr>\n",
       "      <th>2</th>\n",
       "      <td>3</td>\n",
       "      <td>2112838</td>\n",
       "      <td>No</td>\n",
       "      <td>3</td>\n",
       "      <td>45</td>\n",
       "      <td>E2</td>\n",
       "      <td>42.84</td>\n",
       "      <td>42.84</td>\n",
       "      <td>0.00</td>\n",
       "      <td>No</td>\n",
       "      <td>No</td>\n",
       "      <td>Male</td>\n",
       "      <td>Agency</td>\n",
       "      <td>4</td>\n",
       "      <td>INFRA</td>\n",
       "      <td>Noida</td>\n",
       "      <td>27</td>\n",
       "      <td>Joined</td>\n",
       "      <td>adults</td>\n",
       "    </tr>\n",
       "    <tr>\n",
       "      <th>3</th>\n",
       "      <td>4</td>\n",
       "      <td>2115021</td>\n",
       "      <td>No</td>\n",
       "      <td>26</td>\n",
       "      <td>30</td>\n",
       "      <td>E2</td>\n",
       "      <td>42.84</td>\n",
       "      <td>42.84</td>\n",
       "      <td>0.00</td>\n",
       "      <td>No</td>\n",
       "      <td>No</td>\n",
       "      <td>Male</td>\n",
       "      <td>Employee Referral</td>\n",
       "      <td>4</td>\n",
       "      <td>INFRA</td>\n",
       "      <td>Noida</td>\n",
       "      <td>34</td>\n",
       "      <td>Joined</td>\n",
       "      <td>adults</td>\n",
       "    </tr>\n",
       "    <tr>\n",
       "      <th>4</th>\n",
       "      <td>5</td>\n",
       "      <td>2115125</td>\n",
       "      <td>Yes</td>\n",
       "      <td>1</td>\n",
       "      <td>120</td>\n",
       "      <td>E2</td>\n",
       "      <td>42.59</td>\n",
       "      <td>42.59</td>\n",
       "      <td>0.00</td>\n",
       "      <td>No</td>\n",
       "      <td>Yes</td>\n",
       "      <td>Male</td>\n",
       "      <td>Employee Referral</td>\n",
       "      <td>6</td>\n",
       "      <td>INFRA</td>\n",
       "      <td>Noida</td>\n",
       "      <td>34</td>\n",
       "      <td>Joined</td>\n",
       "      <td>adults</td>\n",
       "    </tr>\n",
       "    <tr>\n",
       "      <th>...</th>\n",
       "      <td>...</td>\n",
       "      <td>...</td>\n",
       "      <td>...</td>\n",
       "      <td>...</td>\n",
       "      <td>...</td>\n",
       "      <td>...</td>\n",
       "      <td>...</td>\n",
       "      <td>...</td>\n",
       "      <td>...</td>\n",
       "      <td>...</td>\n",
       "      <td>...</td>\n",
       "      <td>...</td>\n",
       "      <td>...</td>\n",
       "      <td>...</td>\n",
       "      <td>...</td>\n",
       "      <td>...</td>\n",
       "      <td>...</td>\n",
       "      <td>...</td>\n",
       "      <td>...</td>\n",
       "    </tr>\n",
       "    <tr>\n",
       "      <th>8990</th>\n",
       "      <td>12319</td>\n",
       "      <td>3822427</td>\n",
       "      <td>No</td>\n",
       "      <td>4</td>\n",
       "      <td>0</td>\n",
       "      <td>E1</td>\n",
       "      <td>191.67</td>\n",
       "      <td>191.67</td>\n",
       "      <td>0.00</td>\n",
       "      <td>No</td>\n",
       "      <td>No</td>\n",
       "      <td>Male</td>\n",
       "      <td>Employee Referral</td>\n",
       "      <td>1</td>\n",
       "      <td>ERS</td>\n",
       "      <td>Chennai</td>\n",
       "      <td>34</td>\n",
       "      <td>Joined</td>\n",
       "      <td>adults</td>\n",
       "    </tr>\n",
       "    <tr>\n",
       "      <th>8991</th>\n",
       "      <td>12327</td>\n",
       "      <td>3828206</td>\n",
       "      <td>Yes</td>\n",
       "      <td>2</td>\n",
       "      <td>0</td>\n",
       "      <td>E1</td>\n",
       "      <td>150.00</td>\n",
       "      <td>150.00</td>\n",
       "      <td>0.00</td>\n",
       "      <td>No</td>\n",
       "      <td>No</td>\n",
       "      <td>Female</td>\n",
       "      <td>Direct</td>\n",
       "      <td>3</td>\n",
       "      <td>BFSI</td>\n",
       "      <td>Chennai</td>\n",
       "      <td>34</td>\n",
       "      <td>Joined</td>\n",
       "      <td>adults</td>\n",
       "    </tr>\n",
       "    <tr>\n",
       "      <th>8992</th>\n",
       "      <td>12331</td>\n",
       "      <td>3834159</td>\n",
       "      <td>No</td>\n",
       "      <td>0</td>\n",
       "      <td>0</td>\n",
       "      <td>E2</td>\n",
       "      <td>35.42</td>\n",
       "      <td>35.42</td>\n",
       "      <td>0.00</td>\n",
       "      <td>No</td>\n",
       "      <td>No</td>\n",
       "      <td>Male</td>\n",
       "      <td>Direct</td>\n",
       "      <td>5</td>\n",
       "      <td>INFRA</td>\n",
       "      <td>Noida</td>\n",
       "      <td>34</td>\n",
       "      <td>Joined</td>\n",
       "      <td>adults</td>\n",
       "    </tr>\n",
       "    <tr>\n",
       "      <th>8993</th>\n",
       "      <td>12332</td>\n",
       "      <td>3835433</td>\n",
       "      <td>No</td>\n",
       "      <td>0</td>\n",
       "      <td>30</td>\n",
       "      <td>E1</td>\n",
       "      <td>76.92</td>\n",
       "      <td>53.85</td>\n",
       "      <td>-13.04</td>\n",
       "      <td>No</td>\n",
       "      <td>No</td>\n",
       "      <td>Male</td>\n",
       "      <td>Direct</td>\n",
       "      <td>4</td>\n",
       "      <td>INFRA</td>\n",
       "      <td>Noida</td>\n",
       "      <td>34</td>\n",
       "      <td>Joined</td>\n",
       "      <td>adults</td>\n",
       "    </tr>\n",
       "    <tr>\n",
       "      <th>8994</th>\n",
       "      <td>12333</td>\n",
       "      <td>3836076</td>\n",
       "      <td>No</td>\n",
       "      <td>2</td>\n",
       "      <td>0</td>\n",
       "      <td>E1</td>\n",
       "      <td>45.25</td>\n",
       "      <td>14.09</td>\n",
       "      <td>-21.45</td>\n",
       "      <td>No</td>\n",
       "      <td>No</td>\n",
       "      <td>Female</td>\n",
       "      <td>Employee Referral</td>\n",
       "      <td>1</td>\n",
       "      <td>INFRA</td>\n",
       "      <td>Chennai</td>\n",
       "      <td>34</td>\n",
       "      <td>Joined</td>\n",
       "      <td>adults</td>\n",
       "    </tr>\n",
       "  </tbody>\n",
       "</table>\n",
       "<p>8995 rows × 19 columns</p>\n",
       "</div>"
      ],
      "text/plain": [
       "       SLNO  Candidate Ref DOJ Extended  Duration to accept offer  \\\n",
       "0         1        2110407          Yes                        14   \n",
       "1         2        2112635           No                        18   \n",
       "2         3        2112838           No                         3   \n",
       "3         4        2115021           No                        26   \n",
       "4         5        2115125          Yes                         1   \n",
       "...     ...            ...          ...                       ...   \n",
       "8990  12319        3822427           No                         4   \n",
       "8991  12327        3828206          Yes                         2   \n",
       "8992  12331        3834159           No                         0   \n",
       "8993  12332        3835433           No                         0   \n",
       "8994  12333        3836076           No                         2   \n",
       "\n",
       "      Notice period Offered band  Pecent hike expected in CTC  \\\n",
       "0                30           E2                       -20.79   \n",
       "1                30           E2                        50.00   \n",
       "2                45           E2                        42.84   \n",
       "3                30           E2                        42.84   \n",
       "4               120           E2                        42.59   \n",
       "...             ...          ...                          ...   \n",
       "8990              0           E1                       191.67   \n",
       "8991              0           E1                       150.00   \n",
       "8992              0           E2                        35.42   \n",
       "8993             30           E1                        76.92   \n",
       "8994              0           E1                        45.25   \n",
       "\n",
       "      Percent hike offered in CTC  Percent difference CTC Joining Bonus  \\\n",
       "0                           13.16                   42.86            No   \n",
       "1                          320.00                  180.00            No   \n",
       "2                           42.84                    0.00            No   \n",
       "3                           42.84                    0.00            No   \n",
       "4                           42.59                    0.00            No   \n",
       "...                           ...                     ...           ...   \n",
       "8990                       191.67                    0.00            No   \n",
       "8991                       150.00                    0.00            No   \n",
       "8992                        35.42                    0.00            No   \n",
       "8993                        53.85                  -13.04            No   \n",
       "8994                        14.09                  -21.45            No   \n",
       "\n",
       "     Candidate relocate actual  Gender   Candidate Source  Rex in Yrs    LOB  \\\n",
       "0                           No  Female             Agency           7    ERS   \n",
       "1                           No    Male  Employee Referral           8  INFRA   \n",
       "2                           No    Male             Agency           4  INFRA   \n",
       "3                           No    Male  Employee Referral           4  INFRA   \n",
       "4                          Yes    Male  Employee Referral           6  INFRA   \n",
       "...                        ...     ...                ...         ...    ...   \n",
       "8990                        No    Male  Employee Referral           1    ERS   \n",
       "8991                        No  Female             Direct           3   BFSI   \n",
       "8992                        No    Male             Direct           5  INFRA   \n",
       "8993                        No    Male             Direct           4  INFRA   \n",
       "8994                        No  Female  Employee Referral           1  INFRA   \n",
       "\n",
       "     Location  Age  Status agegroup  \n",
       "0       Noida   34  Joined   adults  \n",
       "1     Chennai   34  Joined   adults  \n",
       "2       Noida   27  Joined   adults  \n",
       "3       Noida   34  Joined   adults  \n",
       "4       Noida   34  Joined   adults  \n",
       "...       ...  ...     ...      ...  \n",
       "8990  Chennai   34  Joined   adults  \n",
       "8991  Chennai   34  Joined   adults  \n",
       "8992    Noida   34  Joined   adults  \n",
       "8993    Noida   34  Joined   adults  \n",
       "8994  Chennai   34  Joined   adults  \n",
       "\n",
       "[8995 rows x 19 columns]"
      ]
     },
     "execution_count": 16,
     "metadata": {},
     "output_type": "execute_result"
    }
   ],
   "source": [
    "df"
   ]
  },
  {
   "cell_type": "raw",
   "id": "e0abc861",
   "metadata": {},
   "source": [
    "Q.3 Print the number of candidates in each category"
   ]
  },
  {
   "cell_type": "code",
   "execution_count": 17,
   "id": "05f96bfe",
   "metadata": {},
   "outputs": [
    {
     "data": {
      "text/plain": [
       "E1    5568\n",
       "E2    2711\n",
       "E3     505\n",
       "E0     211\n",
       "Name: Offered band, dtype: int64"
      ]
     },
     "execution_count": 17,
     "metadata": {},
     "output_type": "execute_result"
    }
   ],
   "source": [
    "df[\"Offered band\"].value_counts()"
   ]
  },
  {
   "cell_type": "raw",
   "id": "72b47412",
   "metadata": {},
   "source": [
    "Q.4 Find out the number of Candidates who have joined in each of the age categories."
   ]
  },
  {
   "cell_type": "code",
   "execution_count": 18,
   "id": "a5090770",
   "metadata": {},
   "outputs": [
    {
     "data": {
      "text/plain": [
       "adults    8556\n",
       "mid        438\n",
       "old          1\n",
       "young        0\n",
       "Name: agegroup, dtype: int64"
      ]
     },
     "execution_count": 18,
     "metadata": {},
     "output_type": "execute_result"
    }
   ],
   "source": [
    "df[\"agegroup\"].value_counts()"
   ]
  },
  {
   "cell_type": "raw",
   "id": "8b438e47",
   "metadata": {},
   "source": [
    "Q.5 Map the locations to corresponding states and find out which state has the highest percentage of relocated candidates."
   ]
  },
  {
   "cell_type": "code",
   "execution_count": 19,
   "id": "854f6aaf",
   "metadata": {},
   "outputs": [
    {
     "data": {
      "text/plain": [
       "Chennai      3150\n",
       "Noida        2727\n",
       "Bangalore    2230\n",
       "Hyderabad     341\n",
       "Mumbai        197\n",
       "Gurgaon       146\n",
       "Kolkata       129\n",
       "Pune           48\n",
       "Others         13\n",
       "Cochin          8\n",
       "Ahmedabad       6\n",
       "Name: Location, dtype: int64"
      ]
     },
     "execution_count": 19,
     "metadata": {},
     "output_type": "execute_result"
    }
   ],
   "source": [
    "df[\"Location\"].value_counts()"
   ]
  },
  {
   "cell_type": "code",
   "execution_count": 20,
   "id": "9e4f44d3",
   "metadata": {},
   "outputs": [],
   "source": [
    "#Create a dictionary of present values and the values you want to correspond to\n",
    "states = {\"Chennai\":\"Tamil Nadu\",\"Noida\":\"Uttar Pradesh\",\"Bangalore\":\"Karnataka\",\"Hyderabad\":\"Telangana\",\"Mumbai\":\"Maharashtra\",\"Pune\":\"Maharashtra\",\"Gurgaon\":\"Haryana\",\"Kolkata\":\"West Bengal\",\"Cochin\":\"Kerala\",\"Ahmedabad\":\"Gujarat\",\"Others\":\"Others\"}"
   ]
  },
  {
   "cell_type": "code",
   "execution_count": 21,
   "id": "847f62e6",
   "metadata": {},
   "outputs": [],
   "source": [
    "#Use map function to map the dictionary values to a new or existinng column\n",
    "df[\"states\"] = df[\"Location\"].map(states)"
   ]
  },
  {
   "cell_type": "code",
   "execution_count": 22,
   "id": "3e965d21",
   "metadata": {},
   "outputs": [
    {
     "name": "stdout",
     "output_type": "stream",
     "text": [
      "states\n",
      "Gujarat          33.333333\n",
      "Haryana           9.589041\n",
      "Karnataka         7.892377\n",
      "Kerala            0.000000\n",
      "Maharashtra       6.938776\n",
      "Others           15.384615\n",
      "Tamil Nadu       17.968254\n",
      "Telangana        10.557185\n",
      "Uttar Pradesh    16.831683\n",
      "West Bengal      13.953488\n",
      "Name: Yes, dtype: float64\n",
      "\n",
      "State with the highest percentage of relocated candidates:\n",
      "Gujarat\n"
     ]
    }
   ],
   "source": [
    "#Using unstack() to separate the values based on their feature values\n",
    "state_relocated_percentage = df.groupby('states')['Candidate relocate actual'].value_counts(normalize=True).unstack().fillna(0)['Yes'] * 100\n",
    "print(state_relocated_percentage)\n",
    "highest_relocated_state = state_relocated_percentage.idxmax() #idxmax() will print the highest index value\n",
    "print(\"\\nState with the highest percentage of relocated candidates:\")\n",
    "print(highest_relocated_state)"
   ]
  },
  {
   "cell_type": "raw",
   "id": "1de5d0ff",
   "metadata": {},
   "source": [
    "Q.6 What is the average Percent hike offered in CTC for each of the – Source from which resume of the candidate was obtained."
   ]
  },
  {
   "cell_type": "code",
   "execution_count": 24,
   "id": "afa9ffef",
   "metadata": {
    "scrolled": true
   },
   "outputs": [
    {
     "data": {
      "text/plain": [
       "<bound method NDFrame.first of Candidate Source\n",
       "Agency               41.791219\n",
       "Direct               39.827684\n",
       "Employee Referral    41.311318\n",
       "Name: Percent hike offered in CTC, dtype: float64>"
      ]
     },
     "execution_count": 24,
     "metadata": {},
     "output_type": "execute_result"
    }
   ],
   "source": [
    "#Using groupby() to group the values based on one or more features\n",
    "#Also can use aggregate function which contains mean,median,count and many more arguements\n",
    "c = df.groupby('Candidate Source')['Percent hike offered in CTC'].agg('mean')\n",
    "c.first"
   ]
  },
  {
   "cell_type": "raw",
   "id": "48494bd5",
   "metadata": {},
   "source": [
    "Q.7 What is the proportion of joining bonus offered for male and female candidates respectively."
   ]
  },
  {
   "cell_type": "code",
   "execution_count": 25,
   "id": "77a6c1e1",
   "metadata": {},
   "outputs": [
    {
     "data": {
      "text/plain": [
       "Gender\n",
       "Female    3.610574\n",
       "Male      4.849543\n",
       "Name: Yes, dtype: float64"
      ]
     },
     "execution_count": 25,
     "metadata": {},
     "output_type": "execute_result"
    }
   ],
   "source": [
    "bonus = df.groupby('Gender')['Joining Bonus']\n",
    "bonus.value_counts(normalize=True).unstack()[\"Yes\"] * 100"
   ]
  },
  {
   "cell_type": "raw",
   "id": "b77d518f",
   "metadata": {},
   "source": [
    "Q.8 What is the average age of male and female candidates."
   ]
  },
  {
   "cell_type": "code",
   "execution_count": 26,
   "id": "5bd1eaee",
   "metadata": {},
   "outputs": [],
   "source": [
    "age = df.groupby('Gender')['Age'].agg('mean')"
   ]
  },
  {
   "cell_type": "raw",
   "id": "d9249010",
   "metadata": {},
   "source": [
    "Q.9 Map the status 1 and 0 corresponding to Joined or not joined respectively"
   ]
  },
  {
   "cell_type": "code",
   "execution_count": 27,
   "id": "f7f8032a",
   "metadata": {},
   "outputs": [],
   "source": [
    "status = {\"Joined\" : 1,\"Not Joined\":0}"
   ]
  },
  {
   "cell_type": "code",
   "execution_count": 28,
   "id": "ceada40c",
   "metadata": {},
   "outputs": [],
   "source": [
    "df[\"Status in num\"] = df[\"Status\"].map(status)"
   ]
  },
  {
   "cell_type": "code",
   "execution_count": 29,
   "id": "ee423df2",
   "metadata": {},
   "outputs": [
    {
     "data": {
      "text/plain": [
       "1    7313\n",
       "0    1682\n",
       "Name: Status in num, dtype: int64"
      ]
     },
     "execution_count": 29,
     "metadata": {},
     "output_type": "execute_result"
    }
   ],
   "source": [
    "df[\"Status in num\"].value_counts()"
   ]
  },
  {
   "cell_type": "raw",
   "id": "29d46470",
   "metadata": {},
   "source": [
    "Q.10 What is the proportion of candidates who have extended the DOJ according the the status of joining"
   ]
  },
  {
   "cell_type": "code",
   "execution_count": 30,
   "id": "a1cda68f",
   "metadata": {},
   "outputs": [
    {
     "data": {
      "text/html": [
       "<div>\n",
       "<style scoped>\n",
       "    .dataframe tbody tr th:only-of-type {\n",
       "        vertical-align: middle;\n",
       "    }\n",
       "\n",
       "    .dataframe tbody tr th {\n",
       "        vertical-align: top;\n",
       "    }\n",
       "\n",
       "    .dataframe thead th {\n",
       "        text-align: right;\n",
       "    }\n",
       "</style>\n",
       "<table border=\"1\" class=\"dataframe\">\n",
       "  <thead>\n",
       "    <tr style=\"text-align: right;\">\n",
       "      <th>DOJ Extended</th>\n",
       "      <th>No</th>\n",
       "      <th>Yes</th>\n",
       "    </tr>\n",
       "    <tr>\n",
       "      <th>Status</th>\n",
       "      <th></th>\n",
       "      <th></th>\n",
       "    </tr>\n",
       "  </thead>\n",
       "  <tbody>\n",
       "    <tr>\n",
       "      <th>Joined</th>\n",
       "      <td>53.083550</td>\n",
       "      <td>46.916450</td>\n",
       "    </tr>\n",
       "    <tr>\n",
       "      <th>Not Joined</th>\n",
       "      <td>53.864447</td>\n",
       "      <td>46.135553</td>\n",
       "    </tr>\n",
       "  </tbody>\n",
       "</table>\n",
       "</div>"
      ],
      "text/plain": [
       "DOJ Extended         No        Yes\n",
       "Status                            \n",
       "Joined        53.083550  46.916450\n",
       "Not Joined    53.864447  46.135553"
      ]
     },
     "execution_count": 30,
     "metadata": {},
     "output_type": "execute_result"
    }
   ],
   "source": [
    "doj = df.groupby(\"Status\")[\"DOJ Extended\"]\n",
    "doj.value_counts(normalize = True).unstack()*100"
   ]
  },
  {
   "cell_type": "raw",
   "id": "4fd6cb53",
   "metadata": {},
   "source": [
    "Q.11 Create a new column to store the status of ctc value as Increment, decrement and no difference based on difference in ctc."
   ]
  },
  {
   "cell_type": "code",
   "execution_count": 31,
   "id": "37f88366",
   "metadata": {},
   "outputs": [],
   "source": [
    "def ctc_status(a):\n",
    "    if a>0:\n",
    "        return \"Increment\"\n",
    "    elif a<0:\n",
    "        return \"Decrement\"\n",
    "    else:\n",
    "        return \"No difference\""
   ]
  },
  {
   "cell_type": "code",
   "execution_count": 32,
   "id": "26d17c08",
   "metadata": {},
   "outputs": [],
   "source": [
    "df[\"ctc_status\"] = df[\"Percent difference CTC\"].map(ctc_status)"
   ]
  },
  {
   "cell_type": "code",
   "execution_count": 33,
   "id": "3edf9372",
   "metadata": {},
   "outputs": [
    {
     "data": {
      "text/plain": [
       "Decrement        3972\n",
       "No difference    3476\n",
       "Increment        1547\n",
       "Name: ctc_status, dtype: int64"
      ]
     },
     "execution_count": 33,
     "metadata": {},
     "output_type": "execute_result"
    }
   ],
   "source": [
    "df[\"ctc_status\"] .value_counts()"
   ]
  },
  {
   "cell_type": "raw",
   "id": "500a8bb7",
   "metadata": {},
   "source": [
    "Q.12 Source from which resume of the candidate was obtained has highest number of increments."
   ]
  },
  {
   "cell_type": "code",
   "execution_count": 34,
   "id": "37adccbc",
   "metadata": {},
   "outputs": [
    {
     "name": "stdout",
     "output_type": "stream",
     "text": [
      "Candidate Source\n",
      "Agency               476\n",
      "Direct               788\n",
      "Employee Referral    283\n",
      "Name: Increment, dtype: int64\n",
      "\n",
      "Highest Increment Source : \n",
      "Direct\n"
     ]
    }
   ],
   "source": [
    "incr = df.groupby(\"Candidate Source\")[\"ctc_status\"].value_counts().unstack()[\"Increment\"]\n",
    "print(incr)\n",
    "print(\"\\nHighest Increment Source : \")\n",
    "print(incr.idxmax())"
   ]
  },
  {
   "cell_type": "raw",
   "id": "5bae7526",
   "metadata": {},
   "source": [
    "Q.13 What is the sum of male and female candidates in each of the business lines?"
   ]
  },
  {
   "cell_type": "code",
   "execution_count": 35,
   "id": "9768ea82",
   "metadata": {},
   "outputs": [
    {
     "data": {
      "text/plain": [
       "LOB\n",
       "AXON           568\n",
       "BFSI          1396\n",
       "CSMP           579\n",
       "EAS            346\n",
       "ERS           2426\n",
       "ETS            691\n",
       "Healthcare     124\n",
       "INFRA         2850\n",
       "MMS             15\n",
       "Name: Gender, dtype: int64"
      ]
     },
     "execution_count": 35,
     "metadata": {},
     "output_type": "execute_result"
    }
   ],
   "source": [
    "gen_sum = df.groupby(\"LOB\")[\"Gender\"].agg(\"count\")\n",
    "gen_sum"
   ]
  },
  {
   "cell_type": "raw",
   "id": "814e5e09",
   "metadata": {},
   "source": [
    "Q.14 What is the average notice period for male and female candidates in each of the Business lines."
   ]
  },
  {
   "cell_type": "code",
   "execution_count": 36,
   "id": "885f33e4",
   "metadata": {},
   "outputs": [
    {
     "data": {
      "text/plain": [
       "LOB         Gender\n",
       "AXON        Female    41.962025\n",
       "            Male      43.282209\n",
       "BFSI        Female    43.082707\n",
       "            Male      43.579646\n",
       "CSMP        Female    38.360656\n",
       "            Male      39.715536\n",
       "EAS         Female    42.058824\n",
       "            Male      43.067797\n",
       "ERS         Female    38.657957\n",
       "            Male      40.129676\n",
       "ETS         Female    43.097015\n",
       "            Male      41.256732\n",
       "Healthcare  Female    41.250000\n",
       "            Male      41.388889\n",
       "INFRA       Female    29.737991\n",
       "            Male      35.781773\n",
       "MMS         Female    37.500000\n",
       "            Male      53.181818\n",
       "Name: Notice period, dtype: float64"
      ]
     },
     "execution_count": 36,
     "metadata": {},
     "output_type": "execute_result"
    }
   ],
   "source": [
    "avg_notice = df.groupby([\"LOB\",\"Gender\"])[\"Notice period\"].agg('mean')\n",
    "avg_notice"
   ]
  },
  {
   "cell_type": "raw",
   "id": "cac4828d",
   "metadata": {},
   "source": [
    "Q.15 For each location in each of the lines of business what is the mean of percentage hike offered and median of duration of accept offer for males and females respectively"
   ]
  },
  {
   "cell_type": "code",
   "execution_count": 37,
   "id": "f9db709a",
   "metadata": {},
   "outputs": [
    {
     "data": {
      "text/html": [
       "<div>\n",
       "<style scoped>\n",
       "    .dataframe tbody tr th:only-of-type {\n",
       "        vertical-align: middle;\n",
       "    }\n",
       "\n",
       "    .dataframe tbody tr th {\n",
       "        vertical-align: top;\n",
       "    }\n",
       "\n",
       "    .dataframe thead th {\n",
       "        text-align: right;\n",
       "    }\n",
       "</style>\n",
       "<table border=\"1\" class=\"dataframe\">\n",
       "  <thead>\n",
       "    <tr style=\"text-align: right;\">\n",
       "      <th></th>\n",
       "      <th></th>\n",
       "      <th></th>\n",
       "      <th>Percent hike offered in CTC</th>\n",
       "      <th>Duration to accept offer</th>\n",
       "    </tr>\n",
       "    <tr>\n",
       "      <th>Location</th>\n",
       "      <th>LOB</th>\n",
       "      <th>Gender</th>\n",
       "      <th></th>\n",
       "      <th></th>\n",
       "    </tr>\n",
       "  </thead>\n",
       "  <tbody>\n",
       "    <tr>\n",
       "      <th>Ahmedabad</th>\n",
       "      <th>INFRA</th>\n",
       "      <th>Male</th>\n",
       "      <td>14.901667</td>\n",
       "      <td>0.5</td>\n",
       "    </tr>\n",
       "    <tr>\n",
       "      <th rowspan=\"4\" valign=\"top\">Bangalore</th>\n",
       "      <th rowspan=\"2\" valign=\"top\">AXON</th>\n",
       "      <th>Female</th>\n",
       "      <td>38.562857</td>\n",
       "      <td>6.0</td>\n",
       "    </tr>\n",
       "    <tr>\n",
       "      <th>Male</th>\n",
       "      <td>32.345315</td>\n",
       "      <td>15.0</td>\n",
       "    </tr>\n",
       "    <tr>\n",
       "      <th rowspan=\"2\" valign=\"top\">BFSI</th>\n",
       "      <th>Female</th>\n",
       "      <td>35.144444</td>\n",
       "      <td>25.0</td>\n",
       "    </tr>\n",
       "    <tr>\n",
       "      <th>Male</th>\n",
       "      <td>36.112087</td>\n",
       "      <td>29.5</td>\n",
       "    </tr>\n",
       "    <tr>\n",
       "      <th>...</th>\n",
       "      <th>...</th>\n",
       "      <th>...</th>\n",
       "      <td>...</td>\n",
       "      <td>...</td>\n",
       "    </tr>\n",
       "    <tr>\n",
       "      <th rowspan=\"5\" valign=\"top\">Pune</th>\n",
       "      <th>EAS</th>\n",
       "      <th>Male</th>\n",
       "      <td>13.040000</td>\n",
       "      <td>8.0</td>\n",
       "    </tr>\n",
       "    <tr>\n",
       "      <th rowspan=\"2\" valign=\"top\">ERS</th>\n",
       "      <th>Female</th>\n",
       "      <td>30.509091</td>\n",
       "      <td>18.0</td>\n",
       "    </tr>\n",
       "    <tr>\n",
       "      <th>Male</th>\n",
       "      <td>40.460000</td>\n",
       "      <td>13.5</td>\n",
       "    </tr>\n",
       "    <tr>\n",
       "      <th>ETS</th>\n",
       "      <th>Male</th>\n",
       "      <td>-7.430000</td>\n",
       "      <td>3.0</td>\n",
       "    </tr>\n",
       "    <tr>\n",
       "      <th>INFRA</th>\n",
       "      <th>Male</th>\n",
       "      <td>33.671250</td>\n",
       "      <td>2.0</td>\n",
       "    </tr>\n",
       "  </tbody>\n",
       "</table>\n",
       "<p>104 rows × 2 columns</p>\n",
       "</div>"
      ],
      "text/plain": [
       "                        Percent hike offered in CTC  Duration to accept offer\n",
       "Location  LOB   Gender                                                       \n",
       "Ahmedabad INFRA Male                      14.901667                       0.5\n",
       "Bangalore AXON  Female                    38.562857                       6.0\n",
       "                Male                      32.345315                      15.0\n",
       "          BFSI  Female                    35.144444                      25.0\n",
       "                Male                      36.112087                      29.5\n",
       "...                                             ...                       ...\n",
       "Pune      EAS   Male                      13.040000                       8.0\n",
       "          ERS   Female                    30.509091                      18.0\n",
       "                Male                      40.460000                      13.5\n",
       "          ETS   Male                      -7.430000                       3.0\n",
       "          INFRA Male                      33.671250                       2.0\n",
       "\n",
       "[104 rows x 2 columns]"
      ]
     },
     "execution_count": 37,
     "metadata": {},
     "output_type": "execute_result"
    }
   ],
   "source": [
    "locn = df.groupby([\"Location\",\"LOB\",\"Gender\"]).agg({\"Percent hike offered in CTC\":\"mean\",\"Duration to accept offer\":\"median\"})\n",
    "locn"
   ]
  }
 ],
 "metadata": {
  "kernelspec": {
   "display_name": "Python 3 (ipykernel)",
   "language": "python",
   "name": "python3"
  },
  "language_info": {
   "codemirror_mode": {
    "name": "ipython",
    "version": 3
   },
   "file_extension": ".py",
   "mimetype": "text/x-python",
   "name": "python",
   "nbconvert_exporter": "python",
   "pygments_lexer": "ipython3",
   "version": "3.11.4"
  }
 },
 "nbformat": 4,
 "nbformat_minor": 5
}
